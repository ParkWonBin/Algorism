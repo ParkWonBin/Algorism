{
 "cells": [
  {
   "cell_type": "markdown",
   "metadata": {},
   "source": [
    "# 문자열 들어간 2차원 배열 조작"
   ]
  },
  {
   "cell_type": "code",
   "execution_count": 87,
   "metadata": {},
   "outputs": [
    {
     "data": {
      "text/plain": [
       "['123', '456', '789', 'abc']"
      ]
     },
     "execution_count": 87,
     "metadata": {},
     "output_type": "execute_result"
    }
   ],
   "source": [
    "a = '123'\n",
    "b = '456'\n",
    "c = '789'\n",
    "d = 'abc'\n",
    "li = [a,b,c,d]\n",
    "li"
   ]
  },
  {
   "cell_type": "markdown",
   "metadata": {},
   "source": [
    "### 행렬 출력"
   ]
  },
  {
   "cell_type": "code",
   "execution_count": 53,
   "metadata": {},
   "outputs": [
    {
     "name": "stdout",
     "output_type": "stream",
     "text": [
      "1 2 3 \n",
      "4 5 6 \n",
      "7 8 9 \n",
      "a b c \n"
     ]
    }
   ],
   "source": [
    "# 프린트\n",
    "for i in range(len(li)):\n",
    "    for j in range(len(li[i])):\n",
    "        print(li[i][j],end=\" \")\n",
    "    print()"
   ]
  },
  {
   "cell_type": "code",
   "execution_count": 54,
   "metadata": {},
   "outputs": [
    {
     "name": "stdout",
     "output_type": "stream",
     "text": [
      "1 2 3 \n",
      "4 5 6 \n",
      "7 8 9 \n",
      "a b c \n",
      "\n"
     ]
    }
   ],
   "source": [
    "# 문자열\n",
    "rst = \"\"\n",
    "for i in range(len(li)):\n",
    "    for j in range(len(li[i])):\n",
    "        rst += li[i][j] + \" \"\n",
    "    rst += '\\n'\n",
    "print(rst)"
   ]
  },
  {
   "cell_type": "code",
   "execution_count": 88,
   "metadata": {},
   "outputs": [
    {
     "name": "stdout",
     "output_type": "stream",
     "text": [
      "['1', '2', '3']\n",
      "['4', '5', '6']\n",
      "['7', '8', '9']\n",
      "['a', 'b', 'c']\n",
      "\n",
      "123\n",
      "456\n",
      "789\n",
      "abc\n"
     ]
    }
   ],
   "source": [
    "# 리스트\n",
    "rst1 = []\n",
    "rst2 = []\n",
    "for i in range(len(li)):\n",
    "    temp1 = []\n",
    "    temp2 = \"\"\n",
    "    for j in range(len(li[i])):\n",
    "        temp1.append(li[i][j])\n",
    "        temp2+=li[i][j]\n",
    "    rst1.append(temp1)\n",
    "    rst2.append(temp2)\n",
    "\n",
    "for w in rst1: print(w)\n",
    "print()\n",
    "for w in rst2: print(w)    "
   ]
  },
  {
   "cell_type": "markdown",
   "metadata": {},
   "source": [
    "### 트렌스포스 출력"
   ]
  },
  {
   "cell_type": "code",
   "execution_count": 40,
   "metadata": {},
   "outputs": [
    {
     "name": "stdout",
     "output_type": "stream",
     "text": [
      "1 4 7 a \n",
      "2 5 8 b \n",
      "3 6 9 c \n"
     ]
    }
   ],
   "source": [
    "# 출력\n",
    "for i in range(len(li[0])):\n",
    "    for j in range(len(li)):\n",
    "        print(li[j][i],end=\" \")\n",
    "    print()  "
   ]
  },
  {
   "cell_type": "code",
   "execution_count": 63,
   "metadata": {},
   "outputs": [
    {
     "name": "stdout",
     "output_type": "stream",
     "text": [
      "1 4 7 a \n",
      "2 5 8 b \n",
      "3 6 9 c \n",
      "\n"
     ]
    }
   ],
   "source": [
    "# 문자열\n",
    "rst = \"\"\n",
    "for i in range(len(li[0])):\n",
    "    for j in range(len(li)):\n",
    "        rst += li[j][i]+\" \"\n",
    "    rst += '\\n'\n",
    "print(rst)"
   ]
  },
  {
   "cell_type": "code",
   "execution_count": 90,
   "metadata": {},
   "outputs": [
    {
     "name": "stdout",
     "output_type": "stream",
     "text": [
      "['1', '4', '7', 'a']\n",
      "['2', '5', '8', 'b']\n",
      "['3', '6', '9', 'c']\n",
      "\n",
      "1 4 7 a \n",
      "2 5 8 b \n",
      "3 6 9 c \n"
     ]
    }
   ],
   "source": [
    "# 리스트\n",
    "rst1 = []\n",
    "rst2 = []\n",
    "for i in range(len(li[0])):\n",
    "    temp1 = []\n",
    "    temp2 = \"\"\n",
    "    for j in range(len(li)):\n",
    "        temp1.append(li[j][i])\n",
    "        temp2+=li[j][i]+\" \"\n",
    "    rst1.append(temp1)\n",
    "    rst2.append(temp2)\n",
    "    \n",
    "for w in rst1 : print(w)\n",
    "print()\n",
    "for w in rst2 : print(w)"
   ]
  },
  {
   "cell_type": "markdown",
   "metadata": {},
   "source": [
    "# 규격이 깨진 행렬 출력"
   ]
  },
  {
   "cell_type": "code",
   "execution_count": 66,
   "metadata": {},
   "outputs": [
    {
     "data": {
      "text/plain": [
       "['123', '456', '789', 'abc', 'efghijk', 'l']"
      ]
     },
     "execution_count": 66,
     "metadata": {},
     "output_type": "execute_result"
    }
   ],
   "source": [
    "li = li+['efghijk'] + ['l']\n",
    "li"
   ]
  },
  {
   "cell_type": "code",
   "execution_count": 67,
   "metadata": {},
   "outputs": [
    {
     "name": "stdout",
     "output_type": "stream",
     "text": [
      "1 2 3 _ _ _ _ \n",
      "4 5 6 _ _ _ _ \n",
      "7 8 9 _ _ _ _ \n",
      "a b c _ _ _ _ \n",
      "e f g h i j k \n",
      "l _ _ _ _ _ _ \n"
     ]
    }
   ],
   "source": [
    "# 출력\n",
    "_max = 0\n",
    "for i in range(len(li)):\n",
    "    if len(li[i]) > _max :\n",
    "        _max = len(li[i])\n",
    "\n",
    "for i in range(len(li)):\n",
    "    for j in range(len(li[i])):\n",
    "        print(li[i][j],end=\" \")\n",
    "    print(\"_ \"*(_max -len(li[i])))"
   ]
  },
  {
   "cell_type": "code",
   "execution_count": 72,
   "metadata": {},
   "outputs": [
    {
     "name": "stdout",
     "output_type": "stream",
     "text": [
      "1 2 3 _ _ _ _ \n",
      "4 5 6 _ _ _ _ \n",
      "7 8 9 _ _ _ _ \n",
      "a b c _ _ _ _ \n",
      "e f g h i j k \n",
      "l _ _ _ _ _ _ \n",
      "\n"
     ]
    }
   ],
   "source": [
    "# 문자열\n",
    "_max = 0\n",
    "for n in range(len(li)):\n",
    "    if len(li[n]) > _max:\n",
    "        _max = len(li[n])\n",
    "\n",
    "rst = \"\"\n",
    "for i in range(len(li)):\n",
    "    for j in range(_max):\n",
    "        if j+1 > len(li[i]):\n",
    "            rst += \"_ \"\n",
    "        else:\n",
    "            rst += li[i][j] + \" \"\n",
    "    rst += '\\n'\n",
    "print(rst)\n"
   ]
  },
  {
   "cell_type": "code",
   "execution_count": 81,
   "metadata": {},
   "outputs": [
    {
     "name": "stdout",
     "output_type": "stream",
     "text": [
      "['1', '2', '3', '_', '_', '_', '_']\n",
      "['4', '5', '6', '_', '_', '_', '_']\n",
      "['7', '8', '9', '_', '_', '_', '_']\n",
      "['a', 'b', 'c', '_', '_', '_', '_']\n",
      "['e', 'f', 'g', 'h', 'i', 'j', 'k']\n",
      "['l', '_', '_', '_', '_', '_', '_']\n",
      "\n",
      "1 2 3 _ _ _ _ \n",
      "4 5 6 _ _ _ _ \n",
      "7 8 9 _ _ _ _ \n",
      "a b c _ _ _ _ \n",
      "e f g h i j k \n",
      "l _ _ _ _ _ _ \n"
     ]
    }
   ],
   "source": [
    "_max = 0\n",
    "for n in range(len(li)):\n",
    "    if _max < len(li[n]):\n",
    "        _max = len(li[n])\n",
    "\n",
    "rst1 = []\n",
    "rst2 = []\n",
    "for i in range(len(li)):\n",
    "    temp1 = []\n",
    "    temp2 = \"\"\n",
    "    for j in range(_max):\n",
    "        if j+1 > len(li[i]):\n",
    "            temp1.append(\"_\")\n",
    "            temp2+=\"_ \"\n",
    "        else:\n",
    "            temp1.append(li[i][j])\n",
    "            temp2 += li[i][j]+\" \"\n",
    "    rst1.append(temp1)\n",
    "    rst2.append(temp2) \n",
    "\n",
    "for w in rst1 : print(w)\n",
    "print()\n",
    "for w in rst2 : print(w)"
   ]
  },
  {
   "cell_type": "markdown",
   "metadata": {},
   "source": [
    "# 규격 깨진 행렬 트렌스포스"
   ]
  },
  {
   "cell_type": "code",
   "execution_count": 68,
   "metadata": {},
   "outputs": [
    {
     "name": "stdout",
     "output_type": "stream",
     "text": [
      "1 4 7 a e l \n",
      "2 5 8 b f _ \n",
      "3 6 9 c g _ \n",
      "_ _ _ _ h _ \n",
      "_ _ _ _ i _ \n",
      "_ _ _ _ j _ \n",
      "_ _ _ _ k _ \n"
     ]
    }
   ],
   "source": [
    "_max = 0\n",
    "for i in range(len(li)):\n",
    "    if len(li[i]) > _max :\n",
    "        _max = len(li[i])\n",
    "\n",
    "for i in range(_max):\n",
    "    for j in range(len(li)):\n",
    "        if i+1 > len(li[j]):\n",
    "            print(\"_\",end=\" \")\n",
    "        else:\n",
    "            print(li[j][i],end=\" \")\n",
    "    print()"
   ]
  },
  {
   "cell_type": "code",
   "execution_count": 82,
   "metadata": {},
   "outputs": [
    {
     "name": "stdout",
     "output_type": "stream",
     "text": [
      "1 4 7 a e l \n",
      "2 5 8 b f _ \n",
      "3 6 9 c g _ \n",
      "_ _ _ _ h _ \n",
      "_ _ _ _ i _ \n",
      "_ _ _ _ j _ \n",
      "_ _ _ _ k _ \n",
      "\n"
     ]
    }
   ],
   "source": [
    "_max =0\n",
    "for n in range(len(li)):\n",
    "    if _max < len(li[n]):\n",
    "        _max = len(li[n])\n",
    "\n",
    "rst = \"\"\n",
    "for i in range(_max):\n",
    "    for j in range(len(li)):\n",
    "        if i+1 > len(li[j]):\n",
    "            rst+=\"_ \"\n",
    "        else:\n",
    "            rst+=li[j][i] +\" \"\n",
    "    rst += \"\\n\"\n",
    "print(rst)"
   ]
  },
  {
   "cell_type": "code",
   "execution_count": 85,
   "metadata": {
    "scrolled": true
   },
   "outputs": [
    {
     "name": "stdout",
     "output_type": "stream",
     "text": [
      "['1', '4', '7', 'a', 'e', 'l']\n",
      "['2', '5', '8', 'b', 'f', '_']\n",
      "['3', '6', '9', 'c', 'g', '_']\n",
      "['_', '_', '_', '_', 'h', '_']\n",
      "['_', '_', '_', '_', 'i', '_']\n",
      "['_', '_', '_', '_', 'j', '_']\n",
      "['_', '_', '_', '_', 'k', '_']\n",
      "\n",
      "1 4 7 a e l \n",
      "2 5 8 b f _ \n",
      "3 6 9 c g _ \n",
      "_ _ _ _ h _ \n",
      "_ _ _ _ i _ \n",
      "_ _ _ _ j _ \n",
      "_ _ _ _ k _ \n"
     ]
    }
   ],
   "source": [
    "_max = 0 \n",
    "for n in range(len(li)):\n",
    "    if _max < len(li[n]):\n",
    "        _max = len(li[n])\n",
    "\n",
    "rst1,rst2 = [],[]\n",
    "for i in range(_max):\n",
    "    temp1 = []\n",
    "    temp2 = \"\"\n",
    "    for j in range(len(li)):\n",
    "        if i+1 > len(li[j]):\n",
    "            temp1.append(\"_\")\n",
    "            temp2+=\"_ \"\n",
    "        else:\n",
    "            temp1.append(li[j][i])\n",
    "            temp2+=li[j][i]+\" \"\n",
    "    rst1.append(temp1)\n",
    "    rst2.append(temp2)\n",
    "    \n",
    "for w in rst1 : print(w)\n",
    "print()\n",
    "for w in rst2 : print(w)"
   ]
  },
  {
   "cell_type": "markdown",
   "metadata": {},
   "source": [
    "## 원소 늘어놓기"
   ]
  },
  {
   "cell_type": "code",
   "execution_count": 109,
   "metadata": {},
   "outputs": [
    {
     "name": "stdout",
     "output_type": "stream",
     "text": [
      "[1, 2, 4, 7, 11, 16, 22, 29, 37, 46, 56, 67, 79, 92, 106]\n",
      "[3, 5, 8, 12, 17, 23, 30, 38, 47, 57, 68, 80, 93, 107]\n",
      "[6, 9, 13, 18, 24, 31, 39, 48, 58, 69, 81, 94, 108]\n",
      "[10, 14, 19, 25, 32, 40, 49, 59, 70, 82, 95, 109]\n",
      "[15, 20, 26, 33, 41, 50, 60, 71, 83, 96, 110]\n",
      "[21, 27, 34, 42, 51, 61, 72, 84, 97, 111]\n",
      "[28, 35, 43, 52, 62, 73, 85, 98, 112]\n",
      "[36, 44, 53, 63, 74, 86, 99, 113]\n",
      "[45, 54, 64, 75, 87, 100, 114]\n",
      "[55, 65, 76, 88, 101, 115]\n",
      "[66, 77, 89, 102, 116]\n",
      "[78, 90, 103, 117]\n",
      "[91, 104, 118]\n",
      "[105, 119]\n",
      "[120]\n",
      "(14, 1)\n"
     ]
    }
   ],
   "source": [
    "n =120\n",
    "\n",
    "i,k = 0,0\n",
    "while k < n : i += 1 ; k += i\n",
    "# pint(k,i)\n",
    "\n",
    "rst = []\n",
    "for j in range(1,i+1):\n",
    "    rst.append([])\n",
    "    for m in range(j):\n",
    "        val = m+1+ int((j*(j-1))/2)\n",
    "        if val == n :\n",
    "            pos = (m,j-m)\n",
    "        rst[m].append(val)\n",
    "\n",
    "for w in rst : print(w)\n",
    "print(pos)"
   ]
  }
 ],
 "metadata": {
  "kernelspec": {
   "display_name": "Python 3",
   "language": "python",
   "name": "python3"
  },
  "language_info": {
   "codemirror_mode": {
    "name": "ipython",
    "version": 3
   },
   "file_extension": ".py",
   "mimetype": "text/x-python",
   "name": "python",
   "nbconvert_exporter": "python",
   "pygments_lexer": "ipython3",
   "version": "3.7.4"
  }
 },
 "nbformat": 4,
 "nbformat_minor": 2
}
