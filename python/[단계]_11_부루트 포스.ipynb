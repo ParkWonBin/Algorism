{
 "cells": [
  {
   "cell_type": "code",
   "execution_count": 7,
   "metadata": {
    "scrolled": true
   },
   "outputs": [
    {
     "name": "stdout",
     "output_type": "stream",
     "text": [
      "10 500\n",
      "93 181 245 214 345 36 185 138 216 295\n",
      "497\n"
     ]
    }
   ],
   "source": [
    "# 2798\n",
    "N, M  = map(int,input().split())\n",
    "card = list(map(int,input().split()))\n",
    "_max = 0\n",
    "for i in range(len(card)-2):\n",
    "    for j in range(i+1,len(card)-1):\n",
    "        for k in range(j+1,len(card)):\n",
    "            if _max < card[i]+card[j]+card[k] <= M :\n",
    "                _max = card[i]+card[j]+card[k]\n",
    "print(_max)\n",
    "# 문제풀이 273.78 초"
   ]
  },
  {
   "cell_type": "code",
   "execution_count": 12,
   "metadata": {},
   "outputs": [
    {
     "name": "stdout",
     "output_type": "stream",
     "text": [
      "216\n",
      "198\n"
     ]
    }
   ],
   "source": [
    "# 2231\n",
    "s = input()\n",
    "n = int(s)\n",
    "generator = 0\n",
    "_min = n - len(s)*9\n",
    "if _min <=0 :\n",
    "    _min = 1\n",
    "\n",
    "for gen in range(_min,n):\n",
    "    if gen+sum([int(x) for x in str(gen)]) == n:\n",
    "        generator = gen; break\n",
    "\n",
    "print(generator)\n",
    "# 풀이시간 : 422.23초"
   ]
  },
  {
   "cell_type": "code",
   "execution_count": null,
   "metadata": {},
   "outputs": [],
   "source": [
    "# 7568\n",
    "# T = 5\n",
    "# people = [(55,185),(58,183),(88,186),(60,175),(46,155)]\n",
    "T = int(input())\n",
    "people = []\n",
    "for _ in range(T):\n",
    "    x,y = map(int,input().split())\n",
    "    people.append((x,y))\n",
    "\n",
    "rank = [1 for x in range(T)]\n",
    "for i in range(len(people)-1):\n",
    "    for j in range(i+1,len(people)):\n",
    "        if people[i][0] > people[j][0] and people[i][1] > people[j][1]:\n",
    "                rank[j] +=1\n",
    "        if people[j][0] > people[i][0] and people[j][1] > people[i][1]:\n",
    "                rank[i] +=1\n",
    "print(*rank)\n",
    "# 풀이시간 : 1275.09 초"
   ]
  },
  {
   "cell_type": "code",
   "execution_count": 1,
   "metadata": {},
   "outputs": [],
   "source": [
    "N,M = 8, 8\n",
    "b = '''WBWBWBWB\n",
    "BWBWBWBW\n",
    "WBWBWBWB\n",
    "BWBBBWBW\n",
    "WBWBWBWB\n",
    "BWBWBWBW\n",
    "WBWBWBWB\n",
    "BWBWBWBW'''\n",
    "b = b.split()"
   ]
  },
  {
   "cell_type": "code",
   "execution_count": 4,
   "metadata": {},
   "outputs": [],
   "source": [
    "N,M = 10, 13\n",
    "b = '''BBBBBBBBWBWBW\n",
    "BBBBBBBBBWBWB\n",
    "BBBBBBBBWBWBW\n",
    "BBBBBBBBBWBWB\n",
    "BBBBBBBBWBWBW\n",
    "BBBBBBBBBWBWB\n",
    "BBBBBBBBWBWBW\n",
    "BBBBBBBBBWBWB\n",
    "WWWWWWWWWWBWB\n",
    "WWWWWWWWWWBWB'''\n",
    "b = b.split()"
   ]
  },
  {
   "cell_type": "code",
   "execution_count": null,
   "metadata": {},
   "outputs": [],
   "source": [
    "# 1018\n",
    "N,M = map(int,input().split())\n",
    "b = []\n",
    "for _ in range(N):\n",
    "    b.append(input())"
   ]
  },
  {
   "cell_type": "code",
   "execution_count": 9,
   "metadata": {},
   "outputs": [
    {
     "name": "stdout",
     "output_type": "stream",
     "text": [
      "12\n"
     ]
    }
   ],
   "source": [
    "c = (\"W\",\"B\")\n",
    "w_b = [[0 if b[i][j] == c[(i+j)%2] else 1 for j in range(len(b[i]))] for i in range(len(b))]\n",
    "b_b = [[0 if b[i][j] == c[(i+j+1)%2] else 1 for j in range(len(b[i]))] for i in range(len(b))]\n",
    "\n",
    "rst = []\n",
    "for i in range(len(b)-7):\n",
    "    for j in range(len(b[0])-7):\n",
    "#         print(i,j,*[x[j:j+8] for x in w_b[i:i+8]],sep=\"\\n\")\n",
    "        c_w_b = sum([sum(x) for x in [x[j:j+8] for x in w_b[i:i+8]]])\n",
    "        c_b_b = sum([sum(x) for x in [x[j:j+8] for x in b_b[i:i+8]]])\n",
    "        rst.append(c_w_b)\n",
    "        rst.append(c_b_b)\n",
    "        \n",
    "print(min(rst))"
   ]
  },
  {
   "cell_type": "code",
   "execution_count": 19,
   "metadata": {},
   "outputs": [
    {
     "name": "stdout",
     "output_type": "stream",
     "text": [
      "2\n",
      "[666, 1666, 2666]\n",
      "2666\n"
     ]
    }
   ],
   "source": [
    "# 1436\n",
    "n = int(input())\n",
    "\n",
    "names = []\n",
    "i = 666\n",
    "while len(names)<=n :\n",
    "    tmp = str(i)\n",
    "    if tmp.find('666') != -1 :\n",
    "        names.append(i)\n",
    "    i += 1\n",
    "    \n",
    "print(names)\n",
    "print(names[n-1])"
   ]
  },
  {
   "cell_type": "code",
   "execution_count": 11,
   "metadata": {},
   "outputs": [],
   "source": [
    "import time\n",
    "start = time.time()"
   ]
  },
  {
   "cell_type": "code",
   "execution_count": 12,
   "metadata": {},
   "outputs": [
    {
     "data": {
      "text/plain": [
       "2.0268404483795166"
      ]
     },
     "execution_count": 12,
     "metadata": {},
     "output_type": "execute_result"
    }
   ],
   "source": [
    "time.time()-start"
   ]
  }
 ],
 "metadata": {
  "kernelspec": {
   "display_name": "Python 3",
   "language": "python",
   "name": "python3"
  },
  "language_info": {
   "codemirror_mode": {
    "name": "ipython",
    "version": 3
   },
   "file_extension": ".py",
   "mimetype": "text/x-python",
   "name": "python",
   "nbconvert_exporter": "python",
   "pygments_lexer": "ipython3",
   "version": "3.7.4"
  }
 },
 "nbformat": 4,
 "nbformat_minor": 2
}
