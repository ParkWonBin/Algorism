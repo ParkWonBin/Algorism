{
 "cells": [
  {
   "cell_type": "code",
   "execution_count": 8,
   "metadata": {},
   "outputs": [
    {
     "name": "stdout",
     "output_type": "stream",
     "text": [
      "3**3\n",
      "***************************\n",
      "* ** ** ** ** ** ** ** ** *\n",
      "***************************\n",
      "***   ******   ******   ***\n",
      "* *   * ** *   * ** *   * *\n",
      "***   ******   ******   ***\n",
      "***************************\n",
      "* ** ** ** ** ** ** ** ** *\n",
      "***************************\n",
      "*********         *********\n",
      "* ** ** *         * ** ** *\n",
      "*********         *********\n",
      "***   ***         ***   ***\n",
      "* *   * *         * *   * *\n",
      "***   ***         ***   ***\n",
      "*********         *********\n",
      "* ** ** *         * ** ** *\n",
      "*********         *********\n",
      "***************************\n",
      "* ** ** ** ** ** ** ** ** *\n",
      "***************************\n",
      "***   ******   ******   ***\n",
      "* *   * ** *   * ** *   * *\n",
      "***   ******   ******   ***\n",
      "***************************\n",
      "* ** ** ** ** ** ** ** ** *\n",
      "***************************\n"
     ]
    }
   ],
   "source": [
    "def f(n):\n",
    "    if n == 1 : return \"*\"\n",
    "    txt = f(n//3)\n",
    "    a = txt.split(\"\\n\")\n",
    "    b = []\n",
    "    for i in range(len(a)):\n",
    "        b.append(a[i]*3)\n",
    "    for j in range(len(a)):\n",
    "        b.append(a[j]+(\" \"*len(a))+a[j])\n",
    "    for k in range(len(a)):\n",
    "        b.append(b[k])\n",
    "    return \"\\n\".join(b)\n",
    "\n",
    "print(f(int(eval(input()))))"
   ]
  },
  {
   "cell_type": "code",
   "execution_count": 9,
   "metadata": {},
   "outputs": [
    {
     "name": "stdout",
     "output_type": "stream",
     "text": [
      "9\n",
      "*********\n",
      "* ** ** *\n",
      "*********\n",
      "***   ***\n",
      "* *   * *\n",
      "***   ***\n",
      "*********\n",
      "* ** ** *\n",
      "*********\n",
      "\n"
     ]
    }
   ],
   "source": [
    "# pt = [True,True,True,True,False,True,True,True,True]\n",
    "pt = [False,False,False,False,True,False,False,False,False]\n",
    "\n",
    "def draw(condition):\n",
    "    if condition:\n",
    "        return \" \"\n",
    "    else : \n",
    "        return \"*\"\n",
    "        \n",
    "def is_empty(n,i,j):\n",
    "    if n > 3 :\n",
    "        return is_empty(n//3,i//3,j//3) or pt[3*(i%3)+(j%3)]\n",
    "    else :\n",
    "        return pt[3*(i%3)+(j%3)]\n",
    "    \n",
    "# n = 3**4\n",
    "n = int(eval(input()))\n",
    "rst = \"\"\n",
    "for i in range(n):\n",
    "    for j in range(n):\n",
    "        rst += draw(is_empty(n,i,j))\n",
    "    rst += \"\\n\"\n",
    "print(rst)"
   ]
  },
  {
   "cell_type": "code",
   "execution_count": 12,
   "metadata": {},
   "outputs": [
    {
     "name": "stdout",
     "output_type": "stream",
     "text": [
      "3\n",
      "7\n",
      "1 3\n",
      "1 2\n",
      "3 2\n",
      "1 3\n",
      "2 1\n",
      "2 3\n",
      "1 3\n"
     ]
    }
   ],
   "source": [
    "# 11729\n",
    "def hanoi(n,s,m,e):\n",
    "    if n ==1 : \n",
    "        print(s,e)\n",
    "    else :\n",
    "        hanoi(n-1,s,e,m)\n",
    "        hanoi(1,s,m,e)\n",
    "        hanoi(n-1,m,s,e)\n",
    "    \n",
    "num = int(input())\n",
    "print(2**num -1)\n",
    "hanoi(num,1,2,3)"
   ]
  }
 ],
 "metadata": {
  "kernelspec": {
   "display_name": "Python 3",
   "language": "python",
   "name": "python3"
  },
  "language_info": {
   "codemirror_mode": {
    "name": "ipython",
    "version": 3
   },
   "file_extension": ".py",
   "mimetype": "text/x-python",
   "name": "python",
   "nbconvert_exporter": "python",
   "pygments_lexer": "ipython3",
   "version": "3.7.4"
  }
 },
 "nbformat": 4,
 "nbformat_minor": 2
}
