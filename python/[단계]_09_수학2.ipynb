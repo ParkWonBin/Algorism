{
 "cells": [
  {
   "cell_type": "code",
   "execution_count": 30,
   "metadata": {},
   "outputs": [
    {
     "name": "stdout",
     "output_type": "stream",
     "text": [
      "4\n",
      "1 3 34 5 6 8 9\n",
      "2\n"
     ]
    }
   ],
   "source": [
    "#1978\n",
    "def is_prime(n):\n",
    "    if n == 1 : \n",
    "        return False\n",
    "    for i in range(2,int(n**0.5)+1):\n",
    "        if n%i == 0:\n",
    "            return False\n",
    "    return True\n",
    "\n",
    "T = int(input())\n",
    "num = list(map(int,input().split()))\n",
    "\n",
    "_sum = 0\n",
    "for i in num:\n",
    "    _sum += is_prime(i)\n",
    "print(_sum)"
   ]
  },
  {
   "cell_type": "code",
   "execution_count": 3,
   "metadata": {},
   "outputs": [
    {
     "name": "stdout",
     "output_type": "stream",
     "text": [
      "64\n",
      "65\n",
      "-1\n"
     ]
    }
   ],
   "source": [
    "#2581\n",
    "def is_prime(num):\n",
    "    if num == 1 : \n",
    "        return False\n",
    "    for div in range(2,int(num**0.5)+1):\n",
    "        if num%div == 0:\n",
    "            return False\n",
    "    return True\n",
    "\n",
    "a = int(input())\n",
    "b = int(input())\n",
    "\n",
    "_sum = 0\n",
    "_min = -1\n",
    "for num in range(a,b+1):\n",
    "    if is_prime(num):\n",
    "      #  print(num)\n",
    "        _sum += num\n",
    "        if _min == -1 :\n",
    "            _min = num\n",
    "if _min == -1 :\n",
    "    print(-1)\n",
    "else:\n",
    "    print(_sum)\n",
    "    print(_min)"
   ]
  },
  {
   "cell_type": "code",
   "execution_count": 15,
   "metadata": {},
   "outputs": [
    {
     "name": "stdout",
     "output_type": "stream",
     "text": [
      "100\n",
      "2\n",
      "2\n",
      "5\n",
      "5\n"
     ]
    }
   ],
   "source": [
    "# 11653\n",
    "def div(N,n=2):\n",
    "    if N <= 1 : return \n",
    "    for i in range(n,N+1):\n",
    "        if N%i == 0 : \n",
    "            print(i)\n",
    "            div(N//i,i)\n",
    "            return\n",
    "    \n",
    "div(int(input()))    "
   ]
  },
  {
   "cell_type": "code",
   "execution_count": 16,
   "metadata": {},
   "outputs": [
    {
     "name": "stdout",
     "output_type": "stream",
     "text": [
      "1 10000\n"
     ]
    },
    {
     "data": {
      "text/plain": [
       "1229"
      ]
     },
     "execution_count": 16,
     "metadata": {},
     "output_type": "execute_result"
    }
   ],
   "source": [
    "# 1929\n",
    "def is_prime(num):\n",
    "    if num == 1 : \n",
    "        return False\n",
    "    for div in range(2,int(num**0.5)+1):\n",
    "        if num%div == 0:\n",
    "            return False\n",
    "    return True\n",
    "\n",
    "a,b = map(int,input().split())\n",
    "\n",
    "for num in range(a,b+1):\n",
    "    if is_prime(num):\n",
    "        print(num)"
   ]
  },
  {
   "cell_type": "code",
   "execution_count": 65,
   "metadata": {
    "scrolled": true
   },
   "outputs": [
    {
     "data": {
      "text/plain": [
       "True"
      ]
     },
     "execution_count": 65,
     "metadata": {},
     "output_type": "execute_result"
    }
   ],
   "source": [
    "is_prime(59)"
   ]
  },
  {
   "cell_type": "markdown",
   "metadata": {},
   "source": [
    "# 9020 골드바흐"
   ]
  },
  {
   "cell_type": "code",
   "execution_count": null,
   "metadata": {},
   "outputs": [],
   "source": [
    "# 9020 \n",
    "T = int(input())\n",
    "prob = []\n",
    "for _ in range(T):\n",
    "    prob.append(int(input()))\n",
    "    \n",
    "# 테이블 만들기\n",
    "prime = [2]\n",
    "for i in range(3,max(prob)):\n",
    "    count = 0\n",
    "    for j in prime:\n",
    "        if j**2 > i: break\n",
    "        if i%j==0: count +=1; break\n",
    "    if count == 0:\n",
    "        prime.append(i)\n",
    "\n",
    "# 순서쌍 찾기\n",
    "for num in prob :\n",
    "    \n",
    "    # 중간보다 큰 소수 찾기\n",
    "    k = num//2\n",
    "    for i in range(len(prime)):\n",
    "        if prime[i] > k : k = i-1; break\n",
    "            \n",
    "    # 중간보다 큰 소수부터 시작\n",
    "    for j in prime[k:]:\n",
    "        \n",
    "        # 두 수의 차이가 소수이면 (중간보다 작은 소수)\n",
    "        if num-j in prime[:k+1] : \n",
    "            print(num-j,j)\n",
    "            break"
   ]
  },
  {
   "cell_type": "code",
   "execution_count": 96,
   "metadata": {},
   "outputs": [
    {
     "name": "stdout",
     "output_type": "stream",
     "text": [
      "6 2 10 3\n",
      "1\n"
     ]
    }
   ],
   "source": [
    "# 1085\n",
    "x,y,w,h = map(int,input().split())\n",
    "print(min(x,y,w-x,h-y))"
   ]
  },
  {
   "cell_type": "code",
   "execution_count": 100,
   "metadata": {},
   "outputs": [
    {
     "name": "stdout",
     "output_type": "stream",
     "text": [
      "30 20\n",
      "10 10\n",
      "10 20\n",
      "30 10\n"
     ]
    }
   ],
   "source": [
    "X,Y =[],[]\n",
    "for _ in range(3):\n",
    "    x,y =map(int,input().split())\n",
    "    if x in X : X.remove(x)\n",
    "    else : X.append(x)\n",
    "    if y in Y : Y.remove(y)\n",
    "    else : Y.append(y)\n",
    "print(X[0],Y[0])"
   ]
  },
  {
   "cell_type": "code",
   "execution_count": 5,
   "metadata": {},
   "outputs": [
    {
     "name": "stdout",
     "output_type": "stream",
     "text": [
      "0 8 10\n",
      "wrong\n",
      "0 0 10\n",
      "wrong\n",
      "0 0 0\n"
     ]
    }
   ],
   "source": [
    "#4153\n",
    "while True:\n",
    "    a,b,c = map(int,input().split())\n",
    "    if a==0 and b==0 and c==0 :\n",
    "        break\n",
    "    a,b,c = a**2,b**2,c**2\n",
    "    is_rect = False\n",
    "    if a == b+c : is_rect = True\n",
    "    elif b == a+c : is_rect = True\n",
    "    elif c == a+b : is_rect = True\n",
    "\n",
    "    if is_rect : \n",
    "        print('right')\n",
    "    else : \n",
    "        print('wrong')"
   ]
  },
  {
   "cell_type": "code",
   "execution_count": 10,
   "metadata": {},
   "outputs": [
    {
     "data": {
      "text/plain": [
       "42.0"
      ]
     },
     "execution_count": 10,
     "metadata": {},
     "output_type": "execute_result"
    }
   ],
   "source": [
    "3528/2 /42"
   ]
  },
  {
   "cell_type": "code",
   "execution_count": 11,
   "metadata": {},
   "outputs": [
    {
     "name": "stdout",
     "output_type": "stream",
     "text": [
      "42\n",
      "5541.769440932396\n",
      "3528\n"
     ]
    }
   ],
   "source": [
    "# 3053\n",
    "import math\n",
    "r = int(input())\n",
    "print(math.pi*r*r)\n",
    "print(2*r*r)"
   ]
  }
 ],
 "metadata": {
  "kernelspec": {
   "display_name": "Python 3",
   "language": "python",
   "name": "python3"
  },
  "language_info": {
   "codemirror_mode": {
    "name": "ipython",
    "version": 3
   },
   "file_extension": ".py",
   "mimetype": "text/x-python",
   "name": "python",
   "nbconvert_exporter": "python",
   "pygments_lexer": "ipython3",
   "version": "3.7.4"
  }
 },
 "nbformat": 4,
 "nbformat_minor": 2
}
