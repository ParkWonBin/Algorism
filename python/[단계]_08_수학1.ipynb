{
 "cells": [
  {
   "cell_type": "markdown",
   "metadata": {},
   "source": [
    "# [백준 수학](https://www.acmicpc.net/step/8)"
   ]
  },
  {
   "cell_type": "code",
   "execution_count": 1,
   "metadata": {},
   "outputs": [],
   "source": [
    "import math"
   ]
  },
  {
   "cell_type": "code",
   "execution_count": 2,
   "metadata": {},
   "outputs": [
    {
     "name": "stdout",
     "output_type": "stream",
     "text": [
      "3 2 1\n",
      "-1\n"
     ]
    }
   ],
   "source": [
    "# 1712\n",
    "A,B,C = map(int,input().split())\n",
    "if (C <= B) : \n",
    "    print(-1)\n",
    "else : \n",
    "    n = (A/(C-B))\n",
    "    if n % 1 == 0 : \n",
    "        print(int(n+1))\n",
    "    else :\n",
    "        print(math.ceil(n))"
   ]
  },
  {
   "cell_type": "code",
   "execution_count": 10,
   "metadata": {},
   "outputs": [
    {
     "name": "stdout",
     "output_type": "stream",
     "text": [
      "11\n",
      "3\n"
     ]
    }
   ],
   "source": [
    "# 2839\n",
    "n = int(input())\n",
    "n5 = n//5\n",
    "n3 = (n%5)//3\n",
    "rest = (n%5)%3\n",
    "if rest !=0 : \n",
    "    if rest <= n5 : \n",
    "        print(n5+n3+rest)\n",
    "    else : print(-1)\n",
    "else :\n",
    "    print(n5+n3)"
   ]
  },
  {
   "cell_type": "code",
   "execution_count": 30,
   "metadata": {},
   "outputs": [
    {
     "name": "stdout",
     "output_type": "stream",
     "text": [
      "2\n",
      "2\n"
     ]
    }
   ],
   "source": [
    "# 2292\n",
    "k = int(input())\n",
    "if k >= 2 : \n",
    "    _max = ((k-5/4)/3)**(0.5) + 0.5 # n껍질 최댓값\n",
    "    print(int(_max)+1) # 내림\n",
    "else :\n",
    "    print(1)"
   ]
  },
  {
   "cell_type": "code",
   "execution_count": 105,
   "metadata": {},
   "outputs": [
    {
     "name": "stdout",
     "output_type": "stream",
     "text": [
      "10\n",
      "4/1\n"
     ]
    }
   ],
   "source": [
    "# 1193\n",
    "k = int(input())\n",
    "s = math.ceil((2*k+1/4)**(0.5) + 0.5) # 분자+분모 값\n",
    "\n",
    "start = 1 + (s-2)*(s-1)/2 # 직선 내에서 가장 작은 수\n",
    "a = k - start +1 # 직선 n번째 성분의 수\n",
    "a,s = int(a),int(s)\n",
    "\n",
    "if s%2 ==1 :\n",
    "    print(a,'/',s-a,sep=\"\")\n",
    "else : \n",
    "    print(s-a,'/',a,sep=\"\")\n",
    "# print(s,a,start)\n",
    "\n",
    "\n",
    "# 숏코드 : \n",
    "# https://www.acmicpc.net/source/21031264\n",
    "# X=int(input())\n",
    "# n=k=0\n",
    "# while X>n:n+=k;k+=1\n",
    "# a=k-n+X-1\n",
    "# if k%2:a=k-a\n",
    "# print(f'{k-a}/{a}')"
   ]
  },
  {
   "cell_type": "code",
   "execution_count": 112,
   "metadata": {},
   "outputs": [
    {
     "name": "stdout",
     "output_type": "stream",
     "text": [
      "100 99 1000000000\n",
      "999999901\n"
     ]
    }
   ],
   "source": [
    "#2869\n",
    "import math\n",
    "A,B,V = map(int,input().split())\n",
    "m = V-A\n",
    "if m > 0 :\n",
    "    n = math.ceil(m/(A-B))\n",
    "    print(n+1)\n",
    "else:\n",
    "    print(1)"
   ]
  },
  {
   "cell_type": "code",
   "execution_count": 127,
   "metadata": {},
   "outputs": [
    {
     "name": "stdout",
     "output_type": "stream",
     "text": [
      "1\n",
      "3 3 3\n",
      "301\n"
     ]
    }
   ],
   "source": [
    "# 10250\n",
    "T = int(input())\n",
    "for i in range(T):\n",
    "    H,W,N = map(int,input().split())\n",
    "    flor = (N-1)%H+1\n",
    "    room = (N-1)//H+1\n",
    "    print(100*flor + room)\n"
   ]
  },
  {
   "cell_type": "code",
   "execution_count": 137,
   "metadata": {},
   "outputs": [
    {
     "name": "stdout",
     "output_type": "stream",
     "text": [
      "2\n",
      "1\n",
      "3\n",
      "6\n",
      "2\n",
      "3\n",
      "10\n"
     ]
    }
   ],
   "source": [
    "# 2775\n",
    "T = int(input()) \n",
    "for _ in range(T):\n",
    "    k = int(input())\n",
    "    n = int(input()) \n",
    "    li = [x+1 for x in range(n)]\n",
    "\n",
    "    for _ in range(k) :\n",
    "        for i in range(1,n):\n",
    "              li[i] = li[i-1]+li[i]\n",
    "    print(li[n-1])"
   ]
  },
  {
   "cell_type": "code",
   "execution_count": 7,
   "metadata": {},
   "outputs": [
    {
     "name": "stdout",
     "output_type": "stream",
     "text": [
      "1 2\n",
      "1\n"
     ]
    }
   ],
   "source": [
    "a,b=map(int,input().split())\n",
    "print(int((4*(b-a)-3)**.5))"
   ]
  },
  {
   "cell_type": "code",
   "execution_count": 6,
   "metadata": {},
   "outputs": [
    {
     "name": "stdout",
     "output_type": "stream",
     "text": [
      "3\n",
      "0 1\n",
      "1\n",
      "0 6\n",
      "4\n",
      " \n"
     ]
    },
    {
     "ename": "ValueError",
     "evalue": "not enough values to unpack (expected 2, got 0)",
     "output_type": "error",
     "traceback": [
      "\u001b[1;31m---------------------------------------------------------------------------\u001b[0m",
      "\u001b[1;31mValueError\u001b[0m                                Traceback (most recent call last)",
      "\u001b[1;32m<ipython-input-6-bebe3b78ff7b>\u001b[0m in \u001b[0;36m<module>\u001b[1;34m\u001b[0m\n\u001b[0;32m      3\u001b[0m \u001b[1;33m\u001b[0m\u001b[0m\n\u001b[0;32m      4\u001b[0m \u001b[1;32mfor\u001b[0m \u001b[0m_\u001b[0m \u001b[1;32min\u001b[0m \u001b[0mrange\u001b[0m\u001b[1;33m(\u001b[0m\u001b[0mt\u001b[0m\u001b[1;33m)\u001b[0m\u001b[1;33m:\u001b[0m\u001b[1;33m\u001b[0m\u001b[1;33m\u001b[0m\u001b[0m\n\u001b[1;32m----> 5\u001b[1;33m     \u001b[0mx\u001b[0m\u001b[1;33m,\u001b[0m \u001b[0my\u001b[0m \u001b[1;33m=\u001b[0m \u001b[0mmap\u001b[0m\u001b[1;33m(\u001b[0m\u001b[0mint\u001b[0m\u001b[1;33m,\u001b[0m\u001b[0minput\u001b[0m\u001b[1;33m(\u001b[0m\u001b[1;33m)\u001b[0m\u001b[1;33m.\u001b[0m\u001b[0msplit\u001b[0m\u001b[1;33m(\u001b[0m\u001b[1;33m)\u001b[0m\u001b[1;33m)\u001b[0m\u001b[1;33m\u001b[0m\u001b[1;33m\u001b[0m\u001b[0m\n\u001b[0m\u001b[0;32m      6\u001b[0m     \u001b[0mdistance\u001b[0m \u001b[1;33m=\u001b[0m \u001b[0my\u001b[0m \u001b[1;33m-\u001b[0m \u001b[0mx\u001b[0m\u001b[1;33m\u001b[0m\u001b[1;33m\u001b[0m\u001b[0m\n\u001b[0;32m      7\u001b[0m     \u001b[0mcount\u001b[0m \u001b[1;33m=\u001b[0m \u001b[1;36m0\u001b[0m  \u001b[1;31m# 이동 횟수\u001b[0m\u001b[1;33m\u001b[0m\u001b[1;33m\u001b[0m\u001b[0m\n",
      "\u001b[1;31mValueError\u001b[0m: not enough values to unpack (expected 2, got 0)"
     ]
    }
   ],
   "source": [
    "# 1011 \n",
    "# 다른 사람 코드\n",
    "t = int(input())\n",
    "\n",
    "for _ in range(t):\n",
    "    x, y = map(int,input().split())\n",
    "    distance = y - x\n",
    "    count = 0  # 이동 횟수\n",
    "    move = 1  # count별 이동 가능한 거리\n",
    "    move_plus = 0  # 이동한 거리의 합\n",
    "    while move_plus < distance :\n",
    "        count += 1\n",
    "        move_plus += move  # count 수에 해당하는 move를 더함\n",
    "        if count % 2 == 0 :  # count가 2의 배수일 때, \n",
    "            move += 1  \n",
    "    print(count)\n",
    "    "
   ]
  }
 ],
 "metadata": {
  "kernelspec": {
   "display_name": "Python 3",
   "language": "python",
   "name": "python3"
  },
  "language_info": {
   "codemirror_mode": {
    "name": "ipython",
    "version": 3
   },
   "file_extension": ".py",
   "mimetype": "text/x-python",
   "name": "python",
   "nbconvert_exporter": "python",
   "pygments_lexer": "ipython3",
   "version": "3.7.4"
  }
 },
 "nbformat": 4,
 "nbformat_minor": 2
}
