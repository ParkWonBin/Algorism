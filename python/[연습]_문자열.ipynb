{
 "cells": [
  {
   "cell_type": "markdown",
   "metadata": {},
   "source": [
    "# [백준 문자열](https://www.acmicpc.net/step/7)"
   ]
  },
  {
   "cell_type": "markdown",
   "metadata": {},
   "source": [
    "- ord : 코드값 -> 문자\n",
    "- chr : 문자 -> 코드값"
   ]
  },
  {
   "cell_type": "code",
   "execution_count": 19,
   "metadata": {
    "scrolled": false
   },
   "outputs": [
    {
     "name": "stdout",
     "output_type": "stream",
     "text": [
      "A\n",
      "65\n"
     ]
    }
   ],
   "source": [
    "# 1\n",
    "print(ord(input()))"
   ]
  },
  {
   "cell_type": "code",
   "execution_count": 24,
   "metadata": {},
   "outputs": [
    {
     "name": "stdout",
     "output_type": "stream",
     "text": [
      "123\n",
      "123\n",
      "6\n"
     ]
    }
   ],
   "source": [
    "# 2\n",
    "T = input()\n",
    "seq = input()\n",
    "print(sum([int(x) for x in seq]))"
   ]
  },
  {
   "cell_type": "code",
   "execution_count": 46,
   "metadata": {},
   "outputs": [
    {
     "name": "stdout",
     "output_type": "stream",
     "text": [
      "1 0 -1 -1 2 -1 -1 -1 -1 4 3 -1 -1 7 5 -1 -1 -1 -1 -1 -1 -1 -1 -1 -1 -1\n"
     ]
    }
   ],
   "source": [
    "# 3 알파벳 있는지 찾기\n",
    "a = input()\n",
    "rst = []\n",
    "is_in = False\n",
    "for x in range(ord('a'),ord('z')+1):\n",
    "    # print(chr(x),end=\" \")\n",
    "    for s in range(len(a)) : \n",
    "        if a[s]== chr(x) :\n",
    "            rst.append(s) \n",
    "            is_in = True\n",
    "          #  print(s)\n",
    "            break\n",
    "        else : \n",
    "            is_in = False\n",
    "    if not is_in : \n",
    "        rst.append(-1)\n",
    "        # print(-1)\n",
    "print(*rst)"
   ]
  }
 ],
 "metadata": {
  "kernelspec": {
   "display_name": "Python 3",
   "language": "python",
   "name": "python3"
  },
  "language_info": {
   "codemirror_mode": {
    "name": "ipython",
    "version": 3
   },
   "file_extension": ".py",
   "mimetype": "text/x-python",
   "name": "python",
   "nbconvert_exporter": "python",
   "pygments_lexer": "ipython3",
   "version": "3.7.4"
  }
 },
 "nbformat": 4,
 "nbformat_minor": 2
}
