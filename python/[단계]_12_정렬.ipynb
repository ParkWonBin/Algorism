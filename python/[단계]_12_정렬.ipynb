{
 "cells": [
  {
   "cell_type": "markdown",
   "metadata": {},
   "source": [
    "# 파이썬 기본 정렬 : [TOMsort](https://choiseokwon.tistory.com/208)\n",
    "### [파이썬으로 구현된 정렬 알고리즘](https://choiseokwon.tistory.com/220)"
   ]
  },
  {
   "cell_type": "code",
   "execution_count": null,
   "metadata": {},
   "outputs": [
    {
     "name": "stdout",
     "output_type": "stream",
     "text": [
      "\n"
     ]
    }
   ],
   "source": [
    "# T = 5 ; arr = [5,2,3,4,1]\n",
    "T = int(input())\n",
    "arr = []\n",
    "for _ in range(T): arr.append(int(input()))"
   ]
  },
  {
   "cell_type": "code",
   "execution_count": null,
   "metadata": {},
   "outputs": [],
   "source": [
    "# 버블\n",
    "for j in range(1,len(arr)):\n",
    "    for i in range(len(arr)-j):\n",
    "        if arr[i] > arr[i+1] :\n",
    "            arr[i],arr[i+1] = arr[i+1],arr[i]\n",
    "        \n",
    "print(*arr,sep=\"\\n\")"
   ]
  },
  {
   "cell_type": "markdown",
   "metadata": {},
   "source": [
    "# 2751"
   ]
  },
  {
   "cell_type": "code",
   "execution_count": null,
   "metadata": {},
   "outputs": [],
   "source": [
    "# 퀵 메모리 초과\n",
    "def q(arr):\n",
    "    if len(arr) <= 1 :return arr\n",
    "    p = arr[0]\n",
    "    right,left = [], []\n",
    "    for i in range(1,len(arr)):\n",
    "        if arr[i] > p:\n",
    "            right.append(arr[i])\n",
    "        else :\n",
    "            left.append(arr[i])\n",
    "    return q(left) +[p]+ q(right)\n",
    "\n",
    "print(len(arr),arr)\n",
    "print(*q(arr),sep=\"\\n\")"
   ]
  },
  {
   "cell_type": "code",
   "execution_count": 2,
   "metadata": {},
   "outputs": [
    {
     "name": "stdout",
     "output_type": "stream",
     "text": [
      "10\n",
      "5\n",
      "25\n",
      "[5, 25]\n",
      "50\n",
      "[5, 25, 50]\n",
      "0\n",
      "[0, 5, 25, 50]\n",
      "3\n",
      "[0, 3, 5, 25, 50]\n",
      "10\n",
      "[0, 3, 5, 10, 25, 50]\n",
      "30\n",
      "[0, 3, 5, 10, 25, 30, 50]\n",
      "2\n",
      "[0, 2, 3, 5, 10, 25, 30, 50]\n",
      "1\n",
      "[0, 1, 2, 3, 5, 10, 25, 30, 50]\n",
      "45\n",
      "[0, 1, 2, 3, 5, 10, 25, 30, 45, 50]\n"
     ]
    }
   ],
   "source": [
    "# 시간초과\n",
    "import sys\n",
    "T = int(sys.stdin.readline())\n",
    "rst = [int(sys.stdin.readline())]\n",
    "# T = int(input())\n",
    "# rst = [int(input())]\n",
    "\n",
    "for i in range(T-1):\n",
    "    n = int(sys.stdin.readline())\n",
    "    \n",
    "    st = 0\n",
    "    ed = len(rst)-1\n",
    "    while True :\n",
    "        md = (st + ed) //2\n",
    "\n",
    "        if rst[md] == n :\n",
    "            rst = rst[:md]+[n]+rst[md:]\n",
    "            break\n",
    "            \n",
    "        elif rst[md]<= n :\n",
    "            if ed-st <= 1:\n",
    "                if rst[ed]<n : \n",
    "                    rst = rst[:ed+1]+[n]+rst[ed+1:];break\n",
    "                else : \n",
    "                    rst = rst[:md+1]+[n]+rst[md+1:];break\n",
    "            st = md\n",
    "        else :\n",
    "            if ed-st <= 1 :\n",
    "                if rst[st] > n :\n",
    "                    rst = rst[:st]+[n]+rst[st:];break\n",
    "                else :\n",
    "                    rst = rst[:md]+[n]+rst[md:];break\n",
    "            ed = md\n",
    "        \n",
    "print(*rst,sep=\"\\n\")"
   ]
  },
  {
   "cell_type": "code",
   "execution_count": 9,
   "metadata": {},
   "outputs": [
    {
     "data": {
      "text/plain": [
       "[1, 3, 5]"
      ]
     },
     "execution_count": 9,
     "metadata": {},
     "output_type": "execute_result"
    }
   ],
   "source": [
    "#  답1\n",
    "import sys\n",
    "n = int(input())\n",
    "l = []\n",
    "for i in range(n):\n",
    "    l.append(int(sys.stdin.readline()))\n",
    "for i in sorted(l):\n",
    "    sys.stdout.write(str(i)+'\\n')\n",
    "    \n",
    "# 답2\n",
    "print(*sorted(map(int,[*open(0)][1:])))"
   ]
  },
  {
   "cell_type": "markdown",
   "metadata": {},
   "source": [
    "# 정렬 3"
   ]
  },
  {
   "cell_type": "code",
   "execution_count": null,
   "metadata": {},
   "outputs": [],
   "source": [
    "import sys\n",
    "input=sys.stdin.readline\n",
    "\n",
    "array_list=[0 for i in range(10000)]\n",
    "num=int(input())\n",
    "\n",
    "for cnt in range(num):\n",
    "    array_list[int(input())-1]+=1\n",
    "    \n",
    "for cnt in range(0,10000):\n",
    "    if array_list[cnt]!=0:\n",
    "        for number in range(array_list[cnt]):\n",
    "            print(cnt+1)"
   ]
  },
  {
   "cell_type": "markdown",
   "metadata": {},
   "source": [
    "# 통계학  2108"
   ]
  },
  {
   "cell_type": "code",
   "execution_count": 21,
   "metadata": {},
   "outputs": [
    {
     "name": "stdout",
     "output_type": "stream",
     "text": [
      "5\n",
      "-1\n",
      "-2\n",
      "-3\n",
      "-1\n",
      "-2\n",
      "####\n",
      "-2\n",
      "-2\n",
      "[-2, -1]\n",
      "-1\n",
      "2\n"
     ]
    }
   ],
   "source": [
    "# T= 5\n",
    "# A = sorted([1,3,8,-2,2])\n",
    "\n",
    "T = int(input())\n",
    "N = 4000 # 기준값\n",
    "a = [0 for _ in range(2*N+1)]\n",
    "\n",
    "# 초기값 설정\n",
    "n = int(input())\n",
    "_sum = n\n",
    "_min = n\n",
    "_max = n\n",
    "_mid = n\n",
    "a[n+N] = 1\n",
    "# 입력 받으면서 평균, 최대 최소 구하기\n",
    "for i in range(T-1):\n",
    "    n = int(input())\n",
    "    \n",
    "    a[n+N] += 1\n",
    "    _sum+= n \n",
    "    if n < _min : \n",
    "        _min = n\n",
    "    elif n > _max:\n",
    "        _max = n\n",
    "    \n",
    "# 최대 빈도수 구하기\n",
    "_freq = 0\n",
    "for j in range(2*N+1):\n",
    "    if a[j] == 0:\n",
    "        pass\n",
    "    elif a[j] > _freq : \n",
    "        _freq = a[j]\n",
    "\n",
    "# 최빈값 및 중간값 구하기\n",
    "_tmp = 0\n",
    "_mode = [] \n",
    "_find_mid = True # 중간값\n",
    "for j in range(2*N+1):\n",
    "    if a[j] == 0 :\n",
    "        continue\n",
    "        \n",
    "    if _find_mid :\n",
    "        _tmp += a[j]\n",
    "        if _tmp >= T//2+1 :\n",
    "            _mid = j-N\n",
    "            _find_mid = False\n",
    "            \n",
    "    if a[j] == _freq:\n",
    "          _mode.append(j-N)\n",
    "        \n",
    "if len(_mode) == 1 :\n",
    "    _mode.append(_mode[0])\n",
    "    \n",
    "# print(\"####\")\n",
    "print(int(round(_sum/T,0))) # 평균\n",
    "print(_mid) # 중간 ## 홀수에서 앞에꺼 나오는 문제\n",
    "# print(_mode)\n",
    "print(_mode[1]) # 최빈\n",
    "print(_max - _min) #범위"
   ]
  },
  {
   "cell_type": "markdown",
   "metadata": {},
   "source": [
    "# 1427"
   ]
  },
  {
   "cell_type": "code",
   "execution_count": 24,
   "metadata": {},
   "outputs": [
    {
     "name": "stdout",
     "output_type": "stream",
     "text": [
      "2130120300231245237\n",
      "7543333222221110000\n"
     ]
    }
   ],
   "source": [
    "n = int(input())\n",
    "list1=[]\n",
    "\n",
    "while(n!=0):#이것이 문제였고만\n",
    "    list1.append(n%10)\n",
    "    n=n//10\n",
    "\n",
    "x=sorted(list1)\n",
    "\n",
    "for i in range(len(x)):\n",
    "\n",
    "    n=n+x[i]*pow(10,i)\n",
    "\n",
    "print(n)"
   ]
  },
  {
   "cell_type": "code",
   "execution_count": 28,
   "metadata": {},
   "outputs": [
    {
     "name": "stdout",
     "output_type": "stream",
     "text": [
      "2130120300231245237\n",
      "7543333222221110000\n"
     ]
    }
   ],
   "source": [
    "N = sorted([int(x) for x in input()],reverse=True)\n",
    "n = 0\n",
    "for i in range(len(N)):\n",
    "    n += N[i] * 10**(len(N)-i-1)\n",
    "print(n)"
   ]
  }
 ],
 "metadata": {
  "kernelspec": {
   "display_name": "Python 3",
   "language": "python",
   "name": "python3"
  },
  "language_info": {
   "codemirror_mode": {
    "name": "ipython",
    "version": 3
   },
   "file_extension": ".py",
   "mimetype": "text/x-python",
   "name": "python",
   "nbconvert_exporter": "python",
   "pygments_lexer": "ipython3",
   "version": "3.7.4"
  }
 },
 "nbformat": 4,
 "nbformat_minor": 2
}
