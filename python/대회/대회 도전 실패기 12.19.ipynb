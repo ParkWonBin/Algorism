{
 "cells": [
  {
   "cell_type": "markdown",
   "metadata": {},
   "source": [
    "# A"
   ]
  },
  {
   "cell_type": "code",
   "execution_count": 3,
   "metadata": {},
   "outputs": [
    {
     "name": "stdout",
     "output_type": "stream",
     "text": [
      "3 2 4\n",
      "1 3\n",
      "3 2\n",
      "3 1\n",
      "2 3\n",
      "1\n"
     ]
    }
   ],
   "source": [
    "N, X, K = map(int,input().split())\n",
    "a = [False for x in range(N)]\n",
    "a[X-1] = True\n",
    "\n",
    "for _ in range(K):\n",
    "    i1, i2 = map(int,input().split())\n",
    "    a[i1-1], a[i2-1] = a[i2-1], a[i1-1]\n",
    "\n",
    "for i,is_ball in enumerate(a):\n",
    "    if is_ball: print(i+1)"
   ]
  },
  {
   "cell_type": "markdown",
   "metadata": {},
   "source": [
    "# B"
   ]
  },
  {
   "cell_type": "code",
   "execution_count": 18,
   "metadata": {},
   "outputs": [
    {
     "name": "stdout",
     "output_type": "stream",
     "text": [
      "5 a \n",
      "1 3\n",
      "2 4\n",
      "3 3\n",
      "a 3\n",
      "5 1\n",
      "2\n"
     ]
    }
   ],
   "source": [
    "N,s = input().split()\n",
    "N = int(N)\n",
    "names = []\n",
    "answers = []\n",
    "for _ in range(N):\n",
    "    n, a = input().split()\n",
    "    names.append(n)\n",
    "    answers.append(a)\n",
    "    \n",
    "cut = 0\n",
    "for i in range(N):\n",
    "    if names[i] == s: \n",
    "        cut = i ; break\n",
    "        \n",
    "print(sum([answers[x]==answers[cut] for x in range(cut)]))"
   ]
  },
  {
   "cell_type": "markdown",
   "metadata": {},
   "source": [
    "# C"
   ]
  },
  {
   "cell_type": "code",
   "execution_count": 20,
   "metadata": {},
   "outputs": [
    {
     "name": "stdout",
     "output_type": "stream",
     "text": [
      "123456 12345\n",
      "137035\n"
     ]
    }
   ],
   "source": [
    "x, y = map(int,input().split())\n",
    "print(max(x,y) + min(x,y)//10 + min(x,y))"
   ]
  },
  {
   "cell_type": "markdown",
   "metadata": {},
   "source": [
    "# D"
   ]
  },
  {
   "cell_type": "code",
   "execution_count": null,
   "metadata": {},
   "outputs": [],
   "source": [
    "import sys\n",
    "N, Q = map(int,sys.stdin.readline().restrip().split())\n",
    "area = [False for _ in range(N)] # 점유된 땅은 True\n",
    "for i in range(Q):\n",
    "    a = int(sys.stdin.readline().restrip())  # 원하는 땅\n",
    "    \n",
    "    temp = a\n",
    "    v = 0 # 처음 마주하는 점유된 땅 번호\n",
    "    while temp!=0 :\n",
    "        temp = temp//2 # 상위 노드 번호\n",
    "        if area[temp-1] : #점유되어 있다면\n",
    "            v = temp # 점유된 지역 기억\n",
    "    if v == 0 :\n",
    "        area[a-1] = True # 점유 안된 땅만 나오면 점유함.\n",
    "    print(v)"
   ]
  },
  {
   "cell_type": "markdown",
   "metadata": {},
   "source": [
    "# E"
   ]
  },
  {
   "cell_type": "code",
   "execution_count": null,
   "metadata": {},
   "outputs": [],
   "source": [
    "import sys\n",
    "T = int(sys.stdin.readline())\n",
    "txt = sys.stdin.readline().rstrip()"
   ]
  },
  {
   "cell_type": "code",
   "execution_count": 16,
   "metadata": {},
   "outputs": [],
   "source": [
    "T = 1\n",
    "txt = 'RRRBBBRBB'"
   ]
  },
  {
   "cell_type": "code",
   "execution_count": 17,
   "metadata": {},
   "outputs": [
    {
     "name": "stdout",
     "output_type": "stream",
     "text": [
      "3\n"
     ]
    }
   ],
   "source": [
    "w = txt[0]\n",
    "c = 0\n",
    "while txt :\n",
    "    txt = txt.rstrip(w).lstrip(w)\n",
    "    c +=1\n",
    "    if w=='B' : w = 'R'\n",
    "    else : w = 'B'\n",
    "print(c)"
   ]
  },
  {
   "cell_type": "markdown",
   "metadata": {},
   "source": [
    "# F"
   ]
  },
  {
   "cell_type": "code",
   "execution_count": null,
   "metadata": {},
   "outputs": [],
   "source": [
    "import sys\n",
    "T = int(sys.stdin.readline())\n",
    "a = list(map(int,sys.stdin.readline().rstrip().split()))"
   ]
  },
  {
   "cell_type": "code",
   "execution_count": 12,
   "metadata": {},
   "outputs": [],
   "source": [
    "T = 5\n",
    "a = [2, 5, 3, 5, 9]"
   ]
  },
  {
   "cell_type": "code",
   "execution_count": 54,
   "metadata": {},
   "outputs": [
    {
     "name": "stdout",
     "output_type": "stream",
     "text": [
      "0 1\n",
      "0 2\n",
      "0 3\n",
      "0 4\n",
      "1 2\n",
      "1 3\n",
      "1 4\n",
      "2 3\n",
      "2 4\n",
      "3 4\n"
     ]
    }
   ],
   "source": [
    "elsa = 0\n",
    "anna = 0\n",
    "min_diff = max(a)\n",
    "for i in range(T-1):\n",
    "    temp = a\n",
    "    elsa = temp.pop(i) # 엘사 선택1 \n",
    "    for j in range(T-2):\n",
    "        snow_elsa = elsa + temp.pop(j) # 엘사 선택2\n",
    "            for k in range(T-3):\n",
    "                anna = temp.pop(k) \n",
    "                for l in range(l,T-4):\n",
    "                    snow_anna = anna + temp.pop(l)\n",
    "                    diff = abs(snow_elsa - snow_anna)\n",
    "                    if min_diff > diff : \n",
    "                        min_diff = diff\n",
    "print(min_diff)"
   ]
  },
  {
   "cell_type": "code",
   "execution_count": 52,
   "metadata": {
    "scrolled": true
   },
   "outputs": [
    {
     "data": {
      "text/plain": [
       "[[4, 7, 5, 7, 11],\n",
       " [7, 10, 8, 10, 14],\n",
       " [5, 8, 6, 8, 12],\n",
       " [7, 10, 8, 10, 14],\n",
       " [11, 14, 12, 14, 18]]"
      ]
     },
     "execution_count": 52,
     "metadata": {},
     "output_type": "execute_result"
    }
   ],
   "source": [
    "v"
   ]
  },
  {
   "cell_type": "code",
   "execution_count": 51,
   "metadata": {},
   "outputs": [
    {
     "name": "stdout",
     "output_type": "stream",
     "text": [
      "0 1\n",
      "0 2\n",
      "0 3\n",
      "0 4\n",
      "1 2\n",
      "1 3\n",
      "1 4\n",
      "2 3\n",
      "2 4\n",
      "3 4\n"
     ]
    },
    {
     "data": {
      "text/plain": [
       "[7, 5, 7, 11, 8, 10, 14, 8, 12, 14]"
      ]
     },
     "execution_count": 51,
     "metadata": {},
     "output_type": "execute_result"
    }
   ],
   "source": [
    "v = [list([ a[row] + a[col] for col in range(T)]) for row in range(T)] \n",
    "min_x = max(a)\n",
    "\n",
    "comb = [] # 가능한 조합\n",
    "for row in range(T):\n",
    "    for col in range(row+1,T):\n",
    "        comb.append(v[row][col])\n",
    "        print(row,col)  \n",
    "comb\n",
    "            "
   ]
  }
 ],
 "metadata": {
  "kernelspec": {
   "display_name": "Python 3",
   "language": "python",
   "name": "python3"
  },
  "language_info": {
   "codemirror_mode": {
    "name": "ipython",
    "version": 3
   },
   "file_extension": ".py",
   "mimetype": "text/x-python",
   "name": "python",
   "nbconvert_exporter": "python",
   "pygments_lexer": "ipython3",
   "version": "3.7.4"
  }
 },
 "nbformat": 4,
 "nbformat_minor": 2
}
