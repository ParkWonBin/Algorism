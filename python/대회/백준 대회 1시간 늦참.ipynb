{
 "cells": [
  {
   "cell_type": "markdown",
   "metadata": {},
   "source": [
    "[대회 주소](https://www.acmicpc.net/contest/view/569)"
   ]
  },
  {
   "cell_type": "code",
   "execution_count": 10,
   "metadata": {},
   "outputs": [
    {
     "name": "stdout",
     "output_type": "stream",
     "text": [
      "11 9 9 9\n",
      "9 9\n",
      "9 9\n",
      "0 9\n"
     ]
    }
   ],
   "source": [
    "m, seed, x1, x2 = map(int,input().split())\n",
    "for a in range(m):\n",
    "    c = x1 - (a*seed)%m\n",
    "    if c <= 0 : \n",
    "        c+= m\n",
    "    if (a*x1+c)%m ==x2 :\n",
    "        A = a\n",
    "#         print(x1, (a*seed+c)%m)\n",
    "#         print(x2, (a*x1+c)%m)\n",
    "        break\n",
    "print(A, c)\n",
    "    "
   ]
  },
  {
   "cell_type": "code",
   "execution_count": null,
   "metadata": {},
   "outputs": [],
   "source": [
    "T = int(input())\n",
    "S,G,P,D = map(int,input().split())\n",
    "mvp = input()"
   ]
  },
  {
   "cell_type": "code",
   "execution_count": 52,
   "metadata": {},
   "outputs": [],
   "source": [
    "T = int(8)\n",
    "S,G,P,D = map(int,'30 60 90 150'.split())\n",
    "mvp = 'BSDDPGSG'"
   ]
  },
  {
   "cell_type": "code",
   "execution_count": 63,
   "metadata": {},
   "outputs": [
    {
     "name": "stdout",
     "output_type": "stream",
     "text": [
      "506\n",
      "BSDDPGSG\n",
      "[0, 29, 30, 150, 119, 30, 59, 0, 89]\n"
     ]
    }
   ],
   "source": [
    "rank = {'B':S-1,'S':G-1,'G':P-1,'P':D-1,'D':500}\n",
    "tmp = [0]\n",
    "for i in range(T):\n",
    "    now = rank[mvp[i]]-tmp[i]\n",
    "    if mvp[i] == 'D' : \n",
    "        now =D\n",
    "#     print(mvp[i], now)\n",
    "    if now < 0 :\n",
    "        now = 0\n",
    "        if tmp[i] == rank['D']:\n",
    "            tmp[i] = rank[mvp[i]]\n",
    "        else: \n",
    "            diff = tmp[i] - rank[mvp[i]]\n",
    "            for j in range(i):\n",
    "                if mvp[i-j] =='D':\n",
    "                    break\n",
    "                tmp[i-j] -= ((-1)**j)*diff\n",
    "    tmp.append(now)\n",
    "\n",
    "for i in range(len(tmp)):\n",
    "    if tmp[i]>D:\n",
    "        tmp[i]=D\n",
    "print(sum(tmp))\n",
    "# print(mvp)\n",
    "# print(tmp)"
   ]
  }
 ],
 "metadata": {
  "kernelspec": {
   "display_name": "Python 3",
   "language": "python",
   "name": "python3"
  },
  "language_info": {
   "codemirror_mode": {
    "name": "ipython",
    "version": 3
   },
   "file_extension": ".py",
   "mimetype": "text/x-python",
   "name": "python",
   "nbconvert_exporter": "python",
   "pygments_lexer": "ipython3",
   "version": "3.7.4"
  }
 },
 "nbformat": 4,
 "nbformat_minor": 2
}
