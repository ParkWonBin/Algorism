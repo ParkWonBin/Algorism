{
 "cells": [
  {
   "cell_type": "code",
   "execution_count": null,
   "metadata": {},
   "outputs": [],
   "source": [
    "# 입력받는 법  1\n",
    "T = input() # 1줄만 입력받은\n",
    "\n",
    "# 입력받는 법 2 \n",
    "import sys\n",
    "T = sys.stdin.readline()"
   ]
  },
  {
   "cell_type": "markdown",
   "metadata": {},
   "source": [
    "# 문자열\n",
    "문제 : 2675"
   ]
  },
  {
   "cell_type": "code",
   "execution_count": 29,
   "metadata": {},
   "outputs": [
    {
     "name": "stdout",
     "output_type": "stream",
     "text": [
      "2\n",
      "3 abd\n",
      "aaabbbddd\n",
      "2 ds\n",
      "ddss\n"
     ]
    }
   ],
   "source": [
    "def prob(n,t):\n",
    "    rst = \"\"\n",
    "    for i in range(len(t)):\n",
    "        for _ in range(int(n)):\n",
    "            rst += t[i]\n",
    "    return(rst)\n",
    "\n",
    "T = int(input())\n",
    "for _ in range(T):\n",
    "    n,t = input().split()\n",
    "    print(prob(n,t))"
   ]
  },
  {
   "cell_type": "markdown",
   "metadata": {},
   "source": [
    "문제 : 1157"
   ]
  },
  {
   "cell_type": "code",
   "execution_count": 69,
   "metadata": {},
   "outputs": [
    {
     "name": "stdout",
     "output_type": "stream",
     "text": [
      "miss\n",
      "S\n"
     ]
    }
   ],
   "source": [
    "# valcount 구현\n",
    "def valcount(txt):\n",
    "    keys,vals = [],[]\n",
    "    for i in range(len(txt)):\n",
    "        k = txt[i]\n",
    "        if k not in keys:\n",
    "            keys.append(k)\n",
    "            vals.append(1)\n",
    "        else : \n",
    "            for j in range(len(keys)):\n",
    "                if k == keys[j] :\n",
    "                    vals[j] += 1 ; break\n",
    "                else : pass\n",
    "    return keys,vals\n",
    "\n",
    "# bobble sort 구현\n",
    "def bb_sort(keys,vals):\n",
    "    for j in range(len(vals)):\n",
    "        for i in range(len(vals)-j-1):\n",
    "            if vals[i] < vals[i+1]:\n",
    "                vals[i], vals[i+1] = vals[i+1], vals[i]\n",
    "                keys[i], keys[i+1] = keys[i+1], keys[i]            \n",
    "    return keys,vals\n",
    "\n",
    "\n",
    "txt = input()\n",
    "keys,vals = bb_sort(*valcount(txt.upper()))\n",
    "\n",
    "# print(keys)\n",
    "# print(vals)\n",
    "if len(vals)>1:\n",
    "    if vals[0] == vals[1] :\n",
    "        print(\"?\")\n",
    "    else:\n",
    "        print(keys[0])\n",
    "else :\n",
    "    print(keys[0])"
   ]
  },
  {
   "cell_type": "code",
   "execution_count": 83,
   "metadata": {},
   "outputs": [
    {
     "data": {
      "text/plain": [
       "[1, 1, 2, 3, 4, 4, 15, 23, 23, 23, 34, 37]"
      ]
     },
     "execution_count": 83,
     "metadata": {},
     "output_type": "execute_result"
    }
   ],
   "source": [
    "li = [1,23,15,34,37,23,4,23,1,2,3,4]\n",
    "\n",
    "def quick(li):\n",
    "    if len(li) <= 1 :\n",
    "        return li\n",
    "    pivot = li[len(li)//2]\n",
    "    left, eq, right = [],[],[]\n",
    "    for i in range(len(li)):\n",
    "        if li[i] < pivot : \n",
    "            left.append(li[i])\n",
    "        elif li[i] > pivot :\n",
    "            right.append(li[i])\n",
    "        else :\n",
    "            eq.append(li[i])\n",
    "    return quick(left)+ eq + quick(right)\n",
    "\n",
    "quick_sort(li)"
   ]
  },
  {
   "cell_type": "markdown",
   "metadata": {},
   "source": [
    "2908"
   ]
  },
  {
   "cell_type": "code",
   "execution_count": 100,
   "metadata": {},
   "outputs": [
    {
     "name": "stdout",
     "output_type": "stream",
     "text": [
      "123 345\n",
      "543\n"
     ]
    }
   ],
   "source": [
    "# list의 메소드 reverse()는 원소의 순서를 바꾼다.\n",
    "# 내장함수 reversed()는 입력된 리스트, 문자열 등의 순서를 바꾼 뒤 리턴한다.\n",
    "print(max(map(lambda x : int(''.join(reversed(x))),input().split())))\n"
   ]
  },
  {
   "cell_type": "code",
   "execution_count": 7,
   "metadata": {},
   "outputs": [
    {
     "name": "stdout",
     "output_type": "stream",
     "text": [
      "36\n"
     ]
    }
   ],
   "source": [
    "txt = 'UNUCIC'\n",
    "txt = txt.upper()\n",
    "li = [3,3,3,4,4,4,5,5,5,6,6,6,7,7,7,8,8,8,8,9,9,9,10,10,10,10]\n",
    "print(sum([li[ord(x)-ord('A')] for x in txt]))"
   ]
  },
  {
   "cell_type": "code",
   "execution_count": 23,
   "metadata": {},
   "outputs": [
    {
     "name": "stdout",
     "output_type": "stream",
     "text": [
      "nljj\n",
      "3\n"
     ]
    }
   ],
   "source": [
    "# 2941\n",
    "txt = input()\n",
    "li = ['c=','c-','dz=','d-','s=','z=','lj','nj']\n",
    "tmp = txt\n",
    "for w in li : tmp = tmp.replace(w,\"a\") \n",
    "print(len(tmp))"
   ]
  },
  {
   "cell_type": "code",
   "execution_count": 32,
   "metadata": {},
   "outputs": [
    {
     "name": "stdout",
     "output_type": "stream",
     "text": [
      "2\n",
      "1234\n",
      "1231\n",
      "1\n"
     ]
    }
   ],
   "source": [
    "# 1316\n",
    "def is_grup(txt):\n",
    "    check = [txt[0],]\n",
    "    temp = txt[0]\n",
    "    for w in txt :\n",
    "        if w == temp :\n",
    "            pass\n",
    "        else : \n",
    "            if w in check :\n",
    "                return 0\n",
    "            else : \n",
    "                temp = w\n",
    "                check.append(w)\n",
    "    return 1\n",
    "\n",
    "T = int(input())\n",
    "_sum = 0\n",
    "for i in range(T):\n",
    "    _sum += is_grup(input())\n",
    "print(_sum)"
   ]
  }
 ],
 "metadata": {
  "kernelspec": {
   "display_name": "Python 3",
   "language": "python",
   "name": "python3"
  },
  "language_info": {
   "codemirror_mode": {
    "name": "ipython",
    "version": 3
   },
   "file_extension": ".py",
   "mimetype": "text/x-python",
   "name": "python",
   "nbconvert_exporter": "python",
   "pygments_lexer": "ipython3",
   "version": "3.7.4"
  }
 },
 "nbformat": 4,
 "nbformat_minor": 2
}
