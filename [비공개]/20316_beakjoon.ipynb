{
 "cells": [
  {
   "cell_type": "markdown",
   "metadata": {},
   "source": [
    "## get inputs"
   ]
  },
  {
   "cell_type": "code",
   "execution_count": 21,
   "metadata": {},
   "outputs": [
    {
     "name": "stdout",
     "output_type": "stream",
     "text": [
      "4\n",
      "-4 4\n",
      "5 -5\n",
      "1 4\n",
      "2 -1\n",
      "[-4, 5, 1, 2] [4, -5, 4, -1]\n"
     ]
    }
   ],
   "source": [
    "T = int(input())\n",
    "X = []\n",
    "Y = []\n",
    "for n in range(T):\n",
    "    x,y = map(int,input().rstrip().split())\n",
    "    X.append(x)\n",
    "    Y.append(y)\n",
    "print(X,Y)"
   ]
  },
  {
   "cell_type": "code",
   "execution_count": 22,
   "metadata": {},
   "outputs": [
    {
     "name": "stdout",
     "output_type": "stream",
     "text": [
      "[-4, 5, 1, 2]\n",
      "[4, -5, 4, -1]\n"
     ]
    }
   ],
   "source": [
    "print(X)\n",
    "print(Y)"
   ]
  },
  {
   "cell_type": "code",
   "execution_count": 78,
   "metadata": {},
   "outputs": [],
   "source": [
    "# test\n",
    "X = [-1,-1,-1,-2,-2,-3,-3,-4,-4,-4,1 ,1 ,1 ,1 ,2 ,2 ,3 ,3 ,4 ,4]\n",
    "Y = [1, 2, 3, 2, 4, 2, 4, 1, 2, 3,-1,-2,-3,-4,-1,-4,-1,-4,-1,-4,]"
   ]
  },
  {
   "cell_type": "markdown",
   "metadata": {},
   "source": [
    "## set coordinate"
   ]
  },
  {
   "cell_type": "code",
   "execution_count": 79,
   "metadata": {},
   "outputs": [],
   "source": [
    "M_x = max(X)\n",
    "M_y = max(Y)\n",
    "m_x = min(X)\n",
    "m_y = min(Y)\n",
    "\n",
    "if M_x < 0 : M_x = 0\n",
    "if M_y < 0 : M_y = 0\n",
    "if m_x > 0 : m_x = 0\n",
    "if m_y > 0 : m_y = 0"
   ]
  },
  {
   "cell_type": "code",
   "execution_count": 80,
   "metadata": {},
   "outputs": [
    {
     "data": {
      "text/plain": [
       "(9, 9, 4, 4)"
      ]
     },
     "execution_count": 80,
     "metadata": {},
     "output_type": "execute_result"
    }
   ],
   "source": [
    "w = M_x - m_x + 1\n",
    "h = M_y - m_y + 1\n",
    "\n",
    "zero_x = -m_x\n",
    "zero_y = M_y\n",
    "\n",
    "w,h,zero_x,zero_y"
   ]
  },
  {
   "cell_type": "markdown",
   "metadata": {},
   "source": [
    "## set grid"
   ]
  },
  {
   "cell_type": "code",
   "execution_count": 93,
   "metadata": {},
   "outputs": [
    {
     "name": "stdout",
     "output_type": "stream",
     "text": [
      "[['.', '.', '.', '.', '|', '.', '.', '.', '.'], ['.', '.', '.', '.', '|', '.', '.', '.', '.'], ['.', '.', '.', '.', '|', '.', '.', '.', '.'], ['.', '.', '.', '.', '|', '.', '.', '.', '.'], ['-', '-', '-', '-', 'o', '-', '-', '-', '-'], ['.', '.', '.', '.', '|', '.', '.', '.', '.'], ['.', '.', '.', '.', '|', '.', '.', '.', '.'], ['.', '.', '.', '.', '|', '.', '.', '.', '.'], ['.', '.', '.', '.', '|', '.', '.', '.', '.']]\n"
     ]
    }
   ],
   "source": [
    "s = [\".\",\"-\",\"|\",\"o\",\"#\"]\n",
    "canvas = []\n",
    "for r in range(h):\n",
    "    n_row = []\n",
    "    if r == zero_y :\n",
    "        # 가로선\n",
    "        for c in range(w):\n",
    "            if c==zero_x : \n",
    "                n_row.append(s[3])\n",
    "            else : \n",
    "                n_row.append(s[1])\n",
    "    else : \n",
    "        # 세로선\n",
    "        for c in range(w):\n",
    "            if c==zero_x : \n",
    "                n_row.append(s[2])\n",
    "            else : \n",
    "                n_row.append(s[0])\n",
    "    canvas.append(n_row)\n",
    "\n",
    "print(canvas)"
   ]
  },
  {
   "cell_type": "markdown",
   "metadata": {},
   "source": [
    "## draw grid"
   ]
  },
  {
   "cell_type": "code",
   "execution_count": 94,
   "metadata": {},
   "outputs": [
    {
     "name": "stdout",
     "output_type": "stream",
     "text": [
      "###########\n",
      "#....|....#\n",
      "#....|....#\n",
      "#....|....#\n",
      "#....|....#\n",
      "#----o----#\n",
      "#....|....#\n",
      "#....|....#\n",
      "#....|....#\n",
      "#....|....#\n",
      "###########\n"
     ]
    }
   ],
   "source": [
    "def draw(canvas) :\n",
    "    print(s[4]*(w+2))\n",
    "    for row in canvas :\n",
    "        print(s[4],end=\"\")\n",
    "        for col in row:\n",
    "            print(col,end=\"\")\n",
    "        print(s[4])\n",
    "    print(s[4]*(w+2))\n",
    "    \n",
    "draw(canvas)"
   ]
  },
  {
   "cell_type": "markdown",
   "metadata": {},
   "source": [
    "## draw point"
   ]
  },
  {
   "cell_type": "code",
   "execution_count": 95,
   "metadata": {},
   "outputs": [
    {
     "name": "stdout",
     "output_type": "stream",
     "text": [
      "###########\n",
      "#.XX.|....#\n",
      "#X..X|....#\n",
      "#XXXX|....#\n",
      "#X..X|....#\n",
      "#----o----#\n",
      "#....|XXXX#\n",
      "#....|X...#\n",
      "#....|X...#\n",
      "#....|XXXX#\n",
      "###########\n"
     ]
    }
   ],
   "source": [
    "for i in range(len(X)):\n",
    "    canvas[zero_y-Y[i]][zero_x+X[i]] = \"X\"\n",
    "draw(canvas)"
   ]
  },
  {
   "cell_type": "markdown",
   "metadata": {},
   "source": [
    "# 객체로 묶기"
   ]
  },
  {
   "cell_type": "code",
   "execution_count": 116,
   "metadata": {},
   "outputs": [],
   "source": [
    "class ASK():\n",
    "    def __init__(self,X,Y):\n",
    "        self.s = [\" \",\"-\",\"|\",\"o\",\"#\"]\n",
    "        self.X = X\n",
    "        self.Y = Y\n",
    "        self.set_grid()\n",
    "        self.set_points()\n",
    "        \n",
    "    def set_grid(self):\n",
    "        # 크기 및 원점 설정\n",
    "        M_x = max(X)\n",
    "        M_y = max(Y)\n",
    "        m_x = min(X)\n",
    "        m_y = min(Y)\n",
    "        if M_x < 0 : M_x = 0\n",
    "        if M_y < 0 : M_y = 0\n",
    "        if m_x > 0 : m_x = 0\n",
    "        if m_y > 0 : m_y = 0\n",
    "            \n",
    "        self.w = M_x - m_x + 1\n",
    "        self.h = M_y - m_y + 1\n",
    "        self.zero_x = -m_x\n",
    "        self.zero_y = M_y\n",
    "        \n",
    "        # 내용물 체우기\n",
    "        s = self.s\n",
    "        self.canvas =[]\n",
    "        for r in range(self.h):\n",
    "            n_row = []\n",
    "            if r == self.zero_y :\n",
    "                # 가로선\n",
    "                for c in range(self.w):\n",
    "                    if c==self.zero_x : \n",
    "                        n_row.append(s[3])\n",
    "                    else : \n",
    "                        n_row.append(s[1])\n",
    "            else : \n",
    "                # 세로선\n",
    "                for c in range(self.w):\n",
    "                    if c==self.zero_x : \n",
    "                        n_row.append(s[2])\n",
    "                    else : \n",
    "                        n_row.append(s[0])\n",
    "            self.canvas.append(n_row)\n",
    "            \n",
    "    def set_points(self):\n",
    "        for i in range(len(self.X)):\n",
    "            self.canvas[self.zero_y-self.Y[i]][self.zero_x+self.X[i]] = \"X\"\n",
    "            \n",
    "    def draw(self) :\n",
    "        s,w,h = self.s, self.w, self.h\n",
    "        \n",
    "        print(s[4]*(w+2))\n",
    "        for row in self.canvas :\n",
    "            print(s[4],end=\"\")\n",
    "            for col in row:\n",
    "                print(col,end=\"\")\n",
    "            print(s[4])\n",
    "        print(s[4]*(w+2))\n",
    "\n",
    "if __name__ == '__main__':\n",
    "    T = int(input())\n",
    "    X = []\n",
    "    Y = []\n",
    "    for n in range(T):\n",
    "        x,y = map(int,input().rstrip().split())\n",
    "        X.append(x)\n",
    "        Y.append(y)\n",
    "\n",
    "    ASK(X,Y).draw()"
   ]
  },
  {
   "cell_type": "code",
   "execution_count": 117,
   "metadata": {},
   "outputs": [
    {
     "name": "stdout",
     "output_type": "stream",
     "text": [
      "###########\n",
      "# XX |    #\n",
      "#X  X|    #\n",
      "#XXXX|    #\n",
      "#X  X|    #\n",
      "#----o----#\n",
      "#    |XXXX#\n",
      "#    |X   #\n",
      "#    |X   #\n",
      "#    |XXXX#\n",
      "###########\n"
     ]
    }
   ],
   "source": [
    "X = [-1,-1,-1,-2,-2,-3,-3,-4,-4,-4,1 ,1 ,1 ,1 ,2 ,2 ,3 ,3 ,4 ,4]\n",
    "Y = [1, 2, 3, 2, 4, 2, 4, 1, 2, 3,-1,-2,-3,-4,-1,-4,-1,-4,-1,-4,]\n",
    "ASK(X,Y).draw()"
   ]
  },
  {
   "cell_type": "code",
   "execution_count": 127,
   "metadata": {},
   "outputs": [
    {
     "data": {
      "text/plain": [
       "[' ', '-', '|', 'o', '#', 'x']"
      ]
     },
     "execution_count": 127,
     "metadata": {},
     "output_type": "execute_result"
    }
   ],
   "source": [
    "[chr(32),chr(45),chr(124),chr(111),chr(35),chr(120)]"
   ]
  },
  {
   "cell_type": "code",
   "execution_count": 131,
   "metadata": {
    "scrolled": true
   },
   "outputs": [
    {
     "name": "stdout",
     "output_type": "stream",
     "text": [
      "3\n",
      "-1 1\n",
      "1 -1\n",
      "2 0\n",
      "######\n",
      "#x|  #\n",
      "#-o-x#\n",
      "# |x #\n",
      "######\n"
     ]
    }
   ],
   "source": [
    "import sys\n",
    "class ASK():\n",
    "    def __init__(self,X,Y):\n",
    "        self.s = [\" \",\"-\",\"|\",\"o\",\"#\",'x']\n",
    "        self.s = [chr(32),chr(45),chr(124),chr(111),chr(35),chr(120)]\n",
    "        self.X = X\n",
    "        self.Y = Y\n",
    "        self.set_grid()\n",
    "        self.set_points()\n",
    "        \n",
    "    def set_grid(self):\n",
    "        # 크기 및 원점 설정\n",
    "        M_x = max(X)\n",
    "        M_y = max(Y)\n",
    "        m_x = min(X)\n",
    "        m_y = min(Y)\n",
    "        if M_x < 0 : M_x = 0\n",
    "        if M_y < 0 : M_y = 0\n",
    "        if m_x > 0 : m_x = 0\n",
    "        if m_y > 0 : m_y = 0\n",
    "            \n",
    "        self.w = M_x - m_x + 1\n",
    "        self.h = M_y - m_y + 1\n",
    "        self.zero_x = -m_x\n",
    "        self.zero_y = M_y\n",
    "        \n",
    "        # 내용물 체우기\n",
    "        s = self.s\n",
    "        self.canvas =[]\n",
    "        for r in range(self.h):\n",
    "            n_row = []\n",
    "            if r == self.zero_y :\n",
    "                # 가로선\n",
    "                for c in range(self.w):\n",
    "                    if c==self.zero_x : \n",
    "                        n_row.append(s[3])\n",
    "                    else : \n",
    "                        n_row.append(s[1])\n",
    "            else : \n",
    "                # 세로선\n",
    "                for c in range(self.w):\n",
    "                    if c==self.zero_x : \n",
    "                        n_row.append(s[2])\n",
    "                    else : \n",
    "                        n_row.append(s[0])\n",
    "            self.canvas.append(n_row)\n",
    "            \n",
    "    def set_points(self):\n",
    "        for i in range(len(self.X)):\n",
    "            self.canvas[self.zero_y-self.Y[i]][self.zero_x+self.X[i]] = self.s[5]\n",
    "            \n",
    "    def draw(self) :\n",
    "        s,w,h = self.s, self.w, self.h\n",
    "        \n",
    "        print(s[4]*(w+2))\n",
    "        for row in self.canvas :\n",
    "            print(s[4],end=\"\")\n",
    "            for col in row:\n",
    "                print(col,end=\"\")\n",
    "            print(s[4])\n",
    "        print(s[4]*(w+2))\n",
    "\n",
    "if __name__ == '__main__':\n",
    "    T = int(input())\n",
    "    X = []\n",
    "    Y = []\n",
    "    for n in range(T):\n",
    "        x,y = map(int, input().rstrip().split())\n",
    "        X.append(x)\n",
    "        Y.append(y)\n",
    "\n",
    "    ASK(X,Y).draw()"
   ]
  },
  {
   "cell_type": "code",
   "execution_count": null,
   "metadata": {},
   "outputs": [],
   "source": []
  }
 ],
 "metadata": {
  "kernelspec": {
   "display_name": "Python 3",
   "language": "python",
   "name": "python3"
  },
  "language_info": {
   "codemirror_mode": {
    "name": "ipython",
    "version": 3
   },
   "file_extension": ".py",
   "mimetype": "text/x-python",
   "name": "python",
   "nbconvert_exporter": "python",
   "pygments_lexer": "ipython3",
   "version": "3.7.4"
  }
 },
 "nbformat": 4,
 "nbformat_minor": 2
}
